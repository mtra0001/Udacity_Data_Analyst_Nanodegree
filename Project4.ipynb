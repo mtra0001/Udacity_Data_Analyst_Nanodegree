{
 "cells": [
  {
   "cell_type": "markdown",
   "metadata": {},
   "source": [
    "### Analyzing the Stroop Effect\n",
    "Perform the analysis in the space below. Remember to follow [the instructions](https://docs.google.com/document/d/1-OkpZLjG_kX9J6LIQ5IltsqMzVWjh36QpnP2RYpVdPU/pub?embedded=True) and review the [project rubric](https://review.udacity.com/#!/rubrics/71/view) before submitting. Once you've completed the analysis and write-up, download this file as a PDF or HTML file, upload that PDF/HTML into the workspace here (click on the orange Jupyter icon in the upper left then Upload), then use the Submit Project button at the bottom of this page. This will create a zip file containing both this .ipynb doc and the PDF/HTML doc that will be submitted for your project.\n",
    "\n",
    "\n",
    "(1) What is the independent variable? What is the dependent variable?"
   ]
  },
  {
   "cell_type": "markdown",
   "metadata": {},
   "source": [
    "Independent Variable: The independent variable is whether the word is congruent or incongruent.\n",
    "\n",
    "Dependent Variable: The dependent variable is the reaction time to name the correct colour."
   ]
  },
  {
   "cell_type": "markdown",
   "metadata": {},
   "source": [
    "(2) What is an appropriate set of hypotheses for this task? Specify your null and alternative hypotheses, and clearly define any notation used. Justify your choices."
   ]
  },
  {
   "cell_type": "markdown",
   "metadata": {},
   "source": [
    "#### Hypotheses:\n",
    "\n",
    "$H_0$: $\\mu_{C} = \\mu_{I}$\n",
    "\n",
    "$H_a$: $\\mu_{C} \\neq \\mu_{I}$\n",
    "\n",
    "Where:\n",
    "\n",
    "$H_0$ represents the null hypothesis\n",
    "\n",
    "$H_a$ represents the alternative hypothesis respectively\n",
    "\n",
    "$\\mu_C$ represents the population average reading time for congruently coloured words\n",
    "\n",
    "$\\mu_I$ represents the population average reading time for incongruently coloured words\n",
    "\n",
    "Typically the null hypothesis states that nothing changes, therefore a valid null hypothesis would be that there is no variation between the times for both tasks. On the other hand, the alternative hypothesis would be that it takes more time to do the incongruent task. Just by looking at the sample means we can comfortabily conclude that the incongruent task takes more time to complete but this might have happend by chance. Both the sample size and the skill level of participants may effect the final result, therefore we want to see if there is a statistically significance between the dependent variable for both tasks.\n",
    "\n",
    "$H_0$ : Assumes there is no statistically significant difference between the population mean time for congruent and incongurent words.\n",
    "\n",
    "$H_a$: Assumes there is statistically significant difference between the population mean time for congruent and incongurent words.\n",
    "\n",
    "\n",
    "#### Statistical Test: Dependent Sample two-tailed t-test \n",
    "\n",
    "The Dependent Sampling is the best option for this investigation since both congruent and incongruent words were presented to the same audience. A two-tailed test is favoured over a one-tailed test because we want to determine if there is any difference between the congruent and incongruent datasets. \n",
    "\n",
    "We opted for a t-test because the population paramteres are unknown and sample size is lower than 30. The significance value is $\\alpha=0.05$. The test will definitively indicate with a single metric whether or not there is enough statistical evidence in the sample data to accept/reject the null hypothesis."
   ]
  },
  {
   "cell_type": "markdown",
   "metadata": {},
   "source": [
    "(3) Report some descriptive statistics regarding this dataset. Include at least one measure of central tendency and at least one measure of variability. The name of the data file is 'stroopdata.csv'."
   ]
  },
  {
   "cell_type": "code",
   "execution_count": 1,
   "metadata": {},
   "outputs": [],
   "source": [
    "import pandas as pd\n",
    "import numpy as np\n",
    "import matplotlib.pyplot as plt\n",
    "import scipy.stats as stats\n",
    "from math import *"
   ]
  },
  {
   "cell_type": "code",
   "execution_count": 2,
   "metadata": {},
   "outputs": [],
   "source": [
    "#Loading data\n",
    "data = pd.read_csv(\"stroopdata.csv\")\n",
    "\n",
    "# Parse csv into pandas data structures\n",
    "congruentSeries = data['Congruent']\n",
    "incongruentSeries = data['Incongruent']"
   ]
  },
  {
   "cell_type": "code",
   "execution_count": 3,
   "metadata": {},
   "outputs": [],
   "source": [
    "# Create a column for the difference between congruent and incongruent\n",
    "data['diff'] = data['Incongruent']-data['Congruent']"
   ]
  },
  {
   "cell_type": "code",
   "execution_count": 4,
   "metadata": {},
   "outputs": [
    {
     "data": {
      "text/html": [
       "<div>\n",
       "<style>\n",
       "    .dataframe thead tr:only-child th {\n",
       "        text-align: right;\n",
       "    }\n",
       "\n",
       "    .dataframe thead th {\n",
       "        text-align: left;\n",
       "    }\n",
       "\n",
       "    .dataframe tbody tr th {\n",
       "        vertical-align: top;\n",
       "    }\n",
       "</style>\n",
       "<table border=\"1\" class=\"dataframe\">\n",
       "  <thead>\n",
       "    <tr style=\"text-align: right;\">\n",
       "      <th></th>\n",
       "      <th>Congruent</th>\n",
       "      <th>Incongruent</th>\n",
       "      <th>diff</th>\n",
       "    </tr>\n",
       "  </thead>\n",
       "  <tbody>\n",
       "    <tr>\n",
       "      <th>count</th>\n",
       "      <td>24.000000</td>\n",
       "      <td>24.000000</td>\n",
       "      <td>24.000000</td>\n",
       "    </tr>\n",
       "    <tr>\n",
       "      <th>mean</th>\n",
       "      <td>14.051125</td>\n",
       "      <td>22.015917</td>\n",
       "      <td>7.964792</td>\n",
       "    </tr>\n",
       "    <tr>\n",
       "      <th>std</th>\n",
       "      <td>3.559358</td>\n",
       "      <td>4.797057</td>\n",
       "      <td>4.864827</td>\n",
       "    </tr>\n",
       "    <tr>\n",
       "      <th>min</th>\n",
       "      <td>8.630000</td>\n",
       "      <td>15.687000</td>\n",
       "      <td>1.950000</td>\n",
       "    </tr>\n",
       "    <tr>\n",
       "      <th>25%</th>\n",
       "      <td>11.895250</td>\n",
       "      <td>18.716750</td>\n",
       "      <td>3.645500</td>\n",
       "    </tr>\n",
       "    <tr>\n",
       "      <th>50%</th>\n",
       "      <td>14.356500</td>\n",
       "      <td>21.017500</td>\n",
       "      <td>7.666500</td>\n",
       "    </tr>\n",
       "    <tr>\n",
       "      <th>75%</th>\n",
       "      <td>16.200750</td>\n",
       "      <td>24.051500</td>\n",
       "      <td>10.258500</td>\n",
       "    </tr>\n",
       "    <tr>\n",
       "      <th>max</th>\n",
       "      <td>22.328000</td>\n",
       "      <td>35.255000</td>\n",
       "      <td>21.919000</td>\n",
       "    </tr>\n",
       "  </tbody>\n",
       "</table>\n",
       "</div>"
      ],
      "text/plain": [
       "       Congruent  Incongruent       diff\n",
       "count  24.000000    24.000000  24.000000\n",
       "mean   14.051125    22.015917   7.964792\n",
       "std     3.559358     4.797057   4.864827\n",
       "min     8.630000    15.687000   1.950000\n",
       "25%    11.895250    18.716750   3.645500\n",
       "50%    14.356500    21.017500   7.666500\n",
       "75%    16.200750    24.051500  10.258500\n",
       "max    22.328000    35.255000  21.919000"
      ]
     },
     "execution_count": 4,
     "metadata": {},
     "output_type": "execute_result"
    }
   ],
   "source": [
    "# Descriptive statistics of the two conditions and the difference series\n",
    "descriptive_stats = data.describe()\n",
    "descriptive_stats"
   ]
  },
  {
   "cell_type": "code",
   "execution_count": 5,
   "metadata": {},
   "outputs": [
    {
     "data": {
      "text/html": [
       "<div>\n",
       "<style>\n",
       "    .dataframe thead tr:only-child th {\n",
       "        text-align: right;\n",
       "    }\n",
       "\n",
       "    .dataframe thead th {\n",
       "        text-align: left;\n",
       "    }\n",
       "\n",
       "    .dataframe tbody tr th {\n",
       "        vertical-align: top;\n",
       "    }\n",
       "</style>\n",
       "<table border=\"1\" class=\"dataframe\">\n",
       "  <thead>\n",
       "    <tr style=\"text-align: right;\">\n",
       "      <th></th>\n",
       "      <th>Congruent</th>\n",
       "      <th>Incongruent</th>\n",
       "      <th>diff</th>\n",
       "    </tr>\n",
       "  </thead>\n",
       "  <tbody>\n",
       "    <tr>\n",
       "      <th>Mean</th>\n",
       "      <td>14.051125</td>\n",
       "      <td>22.015917</td>\n",
       "      <td>7.964792</td>\n",
       "    </tr>\n",
       "    <tr>\n",
       "      <th>Median</th>\n",
       "      <td>14.356500</td>\n",
       "      <td>21.017500</td>\n",
       "      <td>7.666500</td>\n",
       "    </tr>\n",
       "  </tbody>\n",
       "</table>\n",
       "</div>"
      ],
      "text/plain": [
       "        Congruent  Incongruent      diff\n",
       "Mean    14.051125    22.015917  7.964792\n",
       "Median  14.356500    21.017500  7.666500"
      ]
     },
     "execution_count": 5,
     "metadata": {},
     "output_type": "execute_result"
    }
   ],
   "source": [
    "#Central Tendency focuses mainly on the mean and median of our data.\n",
    "\n",
    "central_tendency = pd.DataFrame(columns={'Congruent','Incongruent','diff'}, index={'Mean','Median'})\n",
    "\n",
    "central_tendency[\"Congruent\"] = data['Congruent'].mean(),data['Congruent'].median()\n",
    "central_tendency[\"Incongruent\"] = data['Incongruent'].mean(),data['Incongruent'].median()\n",
    "central_tendency[\"diff\"] = data['diff'].mean(),data['diff'].median()\n",
    "\n",
    "central_tendency"
   ]
  },
  {
   "cell_type": "code",
   "execution_count": 6,
   "metadata": {},
   "outputs": [
    {
     "data": {
      "text/html": [
       "<div>\n",
       "<style>\n",
       "    .dataframe thead tr:only-child th {\n",
       "        text-align: right;\n",
       "    }\n",
       "\n",
       "    .dataframe thead th {\n",
       "        text-align: left;\n",
       "    }\n",
       "\n",
       "    .dataframe tbody tr th {\n",
       "        vertical-align: top;\n",
       "    }\n",
       "</style>\n",
       "<table border=\"1\" class=\"dataframe\">\n",
       "  <thead>\n",
       "    <tr style=\"text-align: right;\">\n",
       "      <th></th>\n",
       "      <th>Congruent</th>\n",
       "      <th>Incongruent</th>\n",
       "      <th>diff</th>\n",
       "    </tr>\n",
       "  </thead>\n",
       "  <tbody>\n",
       "    <tr>\n",
       "      <th>IQR</th>\n",
       "      <td>3.559358</td>\n",
       "      <td>4.797057</td>\n",
       "      <td>4.864827</td>\n",
       "    </tr>\n",
       "    <tr>\n",
       "      <th>SD</th>\n",
       "      <td>13.698000</td>\n",
       "      <td>19.568000</td>\n",
       "      <td>19.969000</td>\n",
       "    </tr>\n",
       "    <tr>\n",
       "      <th>Range</th>\n",
       "      <td>4.305500</td>\n",
       "      <td>5.334750</td>\n",
       "      <td>6.613000</td>\n",
       "    </tr>\n",
       "  </tbody>\n",
       "</table>\n",
       "</div>"
      ],
      "text/plain": [
       "       Congruent  Incongruent       diff\n",
       "IQR     3.559358     4.797057   4.864827\n",
       "SD     13.698000    19.568000  19.969000\n",
       "Range   4.305500     5.334750   6.613000"
      ]
     },
     "execution_count": 6,
     "metadata": {},
     "output_type": "execute_result"
    }
   ],
   "source": [
    "#Main measures of Variability include range, IQR (interquartile range), standard deviation.\n",
    "\n",
    "variability = pd.DataFrame(columns={'Congruent','Incongruent','diff'}, index={'SD','Range','IQR'})\n",
    "\n",
    "variability[\"Congruent\"] = descriptive_stats['Congruent']['std'],descriptive_stats['Congruent']['max']-descriptive_stats['Congruent']['min'],descriptive_stats['Congruent']['75%']-descriptive_stats['Congruent']['25%']\n",
    "variability[\"Incongruent\"] = descriptive_stats['Incongruent']['std'],descriptive_stats['Incongruent']['max']-descriptive_stats['Incongruent']['min'],descriptive_stats['Incongruent']['75%']-descriptive_stats['Incongruent']['25%']\n",
    "variability[\"diff\"] = descriptive_stats['diff']['std'],descriptive_stats['diff']['max']-descriptive_stats['diff']['min'],descriptive_stats['diff']['75%']-descriptive_stats['diff']['25%']\n",
    "\n",
    "variability"
   ]
  },
  {
   "cell_type": "markdown",
   "metadata": {},
   "source": [
    "Looking at the Central Tendency table we can note how the mean and median for both Incongruent and Congruent conditions are very similar therefore the overall distribution should be normal in shape. Further more, the std for both methods in the Variability table are roughly equal by first-order approximation which confirms that both conditions similarly shaped and distributed."
   ]
  },
  {
   "cell_type": "markdown",
   "metadata": {},
   "source": [
    "(4) Provide one or two visualizations that show the distribution of the sample data. Write one or two sentences noting what you observe about the plot or plots."
   ]
  },
  {
   "cell_type": "code",
   "execution_count": 7,
   "metadata": {},
   "outputs": [
    {
     "data": {
      "image/png": "[encoded data removed]",
      "text/plain": [
       "<matplotlib.figure.Figure at 0x7efd42ca4048>"
      ]
     },
     "metadata": {},
     "output_type": "display_data"
    },
    {
     "data": {
      "image/png": "[encoded data removed]",
      "text/plain": [
       "<matplotlib.figure.Figure at 0x7efd40bce198>"
      ]
     },
     "metadata": {},
     "output_type": "display_data"
    }
   ],
   "source": [
    "x = data['Congruent']\n",
    "y = data['Incongruent']\n",
    "\n",
    "# Two subplots for each condition\n",
    "f, (ax1, ax2) = plt.subplots(2, 1, sharex=True)\n",
    "ax1.hist(x)\n",
    "ax1.set_title('Congruent words')\n",
    "ax1.set_ylabel('frequency') \n",
    "ax2.hist(y)\n",
    "ax2.set_title('Incongruent words')\n",
    "ax2.set_xlabel('time') \n",
    "ax2.set_ylabel('frequency') \n",
    "\n",
    "f, (ax3, ax4) = plt.subplots(1, 2, sharey=True)\n",
    "ax3.boxplot(x)\n",
    "ax3.set_title('Congruent words')\n",
    "ax3.set_ylabel('time') \n",
    "ax4.boxplot(y)\n",
    "ax4.set_title('Incongruent words')\n",
    "plt.show()"
   ]
  },
  {
   "cell_type": "markdown",
   "metadata": {},
   "source": [
    "The lower mean time can be clearly observed in the first histogram when compared to the histogram for Incongruent words. An identical situation is present in the 2 box plots where the Incongruent words have a higher mean. Also the Congruent dataset looks like it has a bigger spread than the Incongruent dataset (since he min and max are spread further apart from the median)."
   ]
  },
  {
   "cell_type": "markdown",
   "metadata": {},
   "source": [
    "(5)  Now, perform the statistical test and report your results. What is your confidence level or Type I error associated with your test? What is your conclusion regarding the hypotheses you set up? Did the results match up with your expectations? **Hint:**  Think about what is being measured on each individual, and what statistic best captures how an individual reacts in each environment."
   ]
  },
  {
   "cell_type": "code",
   "execution_count": 8,
   "metadata": {},
   "outputs": [
    {
     "data": {
      "text/plain": [
       "Ttest_indResult(statistic=-6.5322505539032285, pvalue=4.5949489622951854e-08)"
      ]
     },
     "execution_count": 8,
     "metadata": {},
     "output_type": "execute_result"
    }
   ],
   "source": [
    "#Use ttest_ind to get statistic and p-value\n",
    "stats.ttest_ind(data['Congruent'], data['Incongruent'])"
   ]
  },
  {
   "cell_type": "code",
   "execution_count": 9,
   "metadata": {},
   "outputs": [
    {
     "name": "stdout",
     "output_type": "stream",
     "text": [
      "    Congruent  Incongruent    diff\n",
      "0      12.079       19.278   7.199\n",
      "1      16.791       18.741   1.950\n",
      "2       9.564       21.214  11.650\n",
      "3       8.630       15.687   7.057\n",
      "4      14.669       22.803   8.134\n",
      "5      12.238       20.878   8.640\n",
      "6      14.692       24.572   9.880\n",
      "7       8.987       17.394   8.407\n",
      "8       9.401       20.762  11.361\n",
      "9      14.480       26.282  11.802\n",
      "10     22.328       24.524   2.196\n",
      "11     15.298       18.644   3.346\n",
      "12     15.073       17.510   2.437\n",
      "13     16.929       20.330   3.401\n",
      "14     18.200       35.255  17.055\n",
      "15     12.130       22.158  10.028\n",
      "16     18.495       25.139   6.644\n",
      "17     10.639       20.429   9.790\n",
      "18     11.344       17.425   6.081\n",
      "19     12.369       34.288  21.919\n",
      "20     12.944       23.894  10.950\n",
      "21     14.233       17.960   3.727\n",
      "22     19.710       22.058   2.348\n",
      "23     16.004       21.157   5.153\n"
     ]
    }
   ],
   "source": [
    "#Calculate difference between two tables\n",
    "ttest = data.copy()\n",
    "Mean_diff = -7.96\n",
    "N = 24\n",
    "df = 23\n",
    "\n",
    "print (ttest)"
   ]
  },
  {
   "cell_type": "code",
   "execution_count": 10,
   "metadata": {},
   "outputs": [
    {
     "data": {
      "text/plain": [
       "count    24.000000\n",
       "mean      7.964792\n",
       "std       4.864827\n",
       "min       1.950000\n",
       "25%       3.645500\n",
       "50%       7.666500\n",
       "75%      10.258500\n",
       "max      21.919000\n",
       "Name: diff, dtype: float64"
      ]
     },
     "execution_count": 10,
     "metadata": {},
     "output_type": "execute_result"
    }
   ],
   "source": [
    "ttest['diff'].describe()"
   ]
  },
  {
   "cell_type": "code",
   "execution_count": 11,
   "metadata": {},
   "outputs": [
    {
     "name": "stdout",
     "output_type": "stream",
     "text": [
      "mean difference: 7.96479166667\n",
      "std of the differences:  4.86482691036\n"
     ]
    }
   ],
   "source": [
    "#Calculate mean difference and standard deviation of the difference\n",
    "mean_ttest = ttest['diff'].mean()\n",
    "print (\"mean difference:\", mean_ttest)\n",
    "std_ttest = ttest['diff'].std()\n",
    "print (\"std of the differences: \", std_ttest)"
   ]
  },
  {
   "cell_type": "code",
   "execution_count": 12,
   "metadata": {},
   "outputs": [
    {
     "name": "stdout",
     "output_type": "stream",
     "text": [
      "t-statistic:  8.02070694411\n"
     ]
    }
   ],
   "source": [
    "#Get t-statistic from the std of the differences\n",
    "std_diff = ttest['diff'].std()/(sqrt(N))\n",
    "t_statistic = ttest['diff'].mean()/std_diff\n",
    "print (\"t-statistic: \", t_statistic)"
   ]
  },
  {
   "cell_type": "code",
   "execution_count": 13,
   "metadata": {},
   "outputs": [
    {
     "name": "stdout",
     "output_type": "stream",
     "text": [
      "Confidence Interval: (5.910215421310279,10.019367912023053)\n"
     ]
    }
   ],
   "source": [
    "#Calculate the confidence range\n",
    "interval_1 = ttest['diff'].mean() - (2.069*(ttest['diff'].std()/sqrt(N)))\n",
    "interval_2 = ttest['diff'].mean() + (2.069*(ttest['diff'].std()/sqrt(N)))\n",
    "                      \n",
    "print (\"Confidence Interval: ({},{})\".format(interval_1,interval_2))"
   ]
  },
  {
   "cell_type": "markdown",
   "metadata": {},
   "source": [
    "Since the t-statistic value falls within the t-critical region the null hypothesis is rejected. Result is also significant with the p(4.5e-8)<0.05 and therefore results meet our initial expectations."
   ]
  },
  {
   "cell_type": "markdown",
   "metadata": {},
   "source": [
    "(6) Optional: What do you think is responsible for the effects observed? Can you think of an alternative or similar task that would result in a similar effect? Some research about the problem will be helpful for thinking about these two questions!"
   ]
  },
  {
   "cell_type": "markdown",
   "metadata": {},
   "source": [
    "The effects observed relate to two theories: Speed of Processing Theory and Selective Attention Theory (https://faculty.washington.edu/chudler/words.html). Both theories wrap up what was observed earlier where people take longer to process and naming colours than words. This test could be tested with very young children who don't know how to read yet. This should have a reverse effect from the above conclusions.\n",
    "\n",
    "A similar experiment may involve audio and images. This can be tested by displaying generic shapes and calling the shape type while the audience has to select the shape being called."
   ]
  },
  {
   "cell_type": "code",
   "execution_count": null,
   "metadata": {},
   "outputs": [],
   "source": []
  }
 ],
 "metadata": {
  "kernelspec": {
   "display_name": "Python 3",
   "language": "python",
   "name": "python3"
  },
  "language_info": {
   "codemirror_mode": {
    "name": "ipython",
    "version": 3
   },
   "file_extension": ".py",
   "mimetype": "text/x-python",
   "name": "python",
   "nbconvert_exporter": "python",
   "pygments_lexer": "ipython3",
   "version": "3.6.3"
  }
 },
 "nbformat": 4,
 "nbformat_minor": 2
}
